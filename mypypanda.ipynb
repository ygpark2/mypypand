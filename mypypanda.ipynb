{
 "metadata": {
  "name": "mypypanda"
 },
 "nbformat": 3,
 "nbformat_minor": 0,
 "worksheets": [
  {
   "cells": [
    {
     "cell_type": "code",
     "collapsed": false,
     "input": [
      "import os\n",
      "from pandas import DataFrame\n",
      "\n",
      "\n",
      "for csvfile in glob.glob('data/ID*.txt'):\n",
      "    profile_info = os.path.basename(csvfile).split(\".\")[0].split(\"_\")\n",
      "    profile_id = profile_info[0][-1]\n",
      "    track = profile_info[1][-1]\n",
      "    print csvfile\n",
      "    df = DataFrame.from_csv(csvfile, header=0, sep=',')\n",
      "    for (index, Series) in df.iterrows():\n",
      "        print index\n",
      "        print Series\n",
      "        break\n",
      "    # print df\n",
      "        \n",
      "print os.path.basename(\"sdklfj/id2_trac2.txt\").split(\".\")[0].split(\"_\")\n",
      "\n",
      "a = [2,3,4,5,6,7,8]\n",
      "a.insert(0, 1)\n",
      "a.insert(0, 0)\n",
      "print a\n",
      "print len(a)\n",
      "b = [1, 1, 0.05, 0.100883938, 0, 0.143315226, 40, 0, 0, -0.119223438, 0.000249119, 0, 639.031189, 1034.411621, -0.003921378, -0.115637839, 1261.974976, -1, -1, 0, 0, 0, -1, 500.6430969, 999999, 30.03858376, 7, 0, 0, 0.001802, 0, 0, 999999, 999999, 999999, 999999, 690.7851563, 2486829.75, 0]\n",
      "print len(b)"
     ],
     "language": "python",
     "metadata": {},
     "outputs": [
      {
       "output_type": "stream",
       "stream": "stdout",
       "text": [
        "data\\ID1_Track1.txt\n",
        "0.05\t0.100883938\t0\t0.143315226\t40\t0\t0\t-0.119223438\t0.000249119\t0\t639.031189\t1034.411621\t-0.003921378\t-0.115637839\t1261.974976\t-1\t-1\t0\t0\t0\t-1\t500.6430969\t999999\t30.03858376\t7\t0\t0\t0.001802\t0\t0\t999999\t999999\t999999\t999999\t690.7851563\t2486829.75\t0"
       ]
      },
      {
       "output_type": "stream",
       "stream": "stdout",
       "text": [
        "\n",
        "[]\n",
        "data\\ID1_Track2.txt\n",
        "0.05\t0.101013489\t0\t0.142229602\t59.99999619\t0\t0\t0.005026548\t0.007901069\t-0.002019194\t1749.654175\t1190.914673\t-0.009574923\t-0.10745547\t2860.155762\t5\t0\t0\t0\t0\t-1\t833.0513306\t999999\t49.983078\t7\t0\t0\t0.002999\t0\t0\t999999\t999999\t999999\t999999\t690.7851563\t2505800.5\t0"
       ]
      },
      {
       "output_type": "stream",
       "stream": "stdout",
       "text": [
        "\n",
        "[]\n",
        "data\\ID1_Track3.txt\n",
        "0.05\t0.150748432\t0\t0.142441824\t59.99999619\t0\t0\t0\t0.000207368\t0\t-1122.542236\t697.3909912\t-0.009759589\t-0.110389188\t4134.981934\t-1\t-1\t0\t0\t0\t-1\t389.0343628\t999999\t23.33739471\t7\t0\t0\t60\t0\t0\t999999\t999999\t999999\t999999\t690.7851563\t2502071\t0"
       ]
      },
      {
       "output_type": "stream",
       "stream": "stdout",
       "text": [
        "\n",
        "[]\n",
        "['id2', 'trac2']\n",
        "[0, 1, 2, 3, 4, 5, 6, 7, 8]\n",
        "9\n",
        "39\n"
       ]
      }
     ],
     "prompt_number": 31
    },
    {
     "cell_type": "code",
     "collapsed": false,
     "input": [
      "import MySQLdb\n",
      "import pandas.io.sql as psql\n",
      "\n",
      "f = open('schema.sql', 'r')\n",
      "\n",
      "mysql_cn= MySQLdb.connect(host='localhost', port=3306, user='root', passwd='password', db='inhidb')\n",
      "\n",
      "    profile_csvdict = csv.DictReader(open('data/profile.csv', 'rb'), delimiter=',', quotechar = '\"', doublequote = True, skipinitialspace = True, quoting=csv.QUOTE_ALL) # QUOTE_NONNUMERIC)\n",
      "    for profile in profile_csvdict:\n",
      "        sql = 'INSERT INTO `profile` (' + ', '.join( profile.keys() ) + ') VALUES ( %s, %s, %s, %s );'\n",
      "        print sql\n",
      "\n",
      "mysql_cn.close()"
     ],
     "language": "python",
     "metadata": {},
     "outputs": [
      {
       "ename": "ProgrammingError",
       "evalue": "(1146, \"Table 'inhidb.views' doesn't exist\")",
       "output_type": "pyerr",
       "traceback": [
        "\u001b[1;31m---------------------------------------------------------------------------\u001b[0m\n\u001b[1;31mProgrammingError\u001b[0m                          Traceback (most recent call last)",
        "\u001b[1;32m<ipython-input-100-755195c7a93b>\u001b[0m in \u001b[0;36m<module>\u001b[1;34m()\u001b[0m\n\u001b[0;32m      6\u001b[0m \u001b[0mmysql_cn\u001b[0m\u001b[1;33m=\u001b[0m \u001b[0mMySQLdb\u001b[0m\u001b[1;33m.\u001b[0m\u001b[0mconnect\u001b[0m\u001b[1;33m(\u001b[0m\u001b[0mhost\u001b[0m\u001b[1;33m=\u001b[0m\u001b[1;34m'localhost'\u001b[0m\u001b[1;33m,\u001b[0m \u001b[0mport\u001b[0m\u001b[1;33m=\u001b[0m\u001b[1;36m3306\u001b[0m\u001b[1;33m,\u001b[0m \u001b[0muser\u001b[0m\u001b[1;33m=\u001b[0m\u001b[1;34m'root'\u001b[0m\u001b[1;33m,\u001b[0m \u001b[0mpasswd\u001b[0m\u001b[1;33m=\u001b[0m\u001b[1;34m'password'\u001b[0m\u001b[1;33m,\u001b[0m \u001b[0mdb\u001b[0m\u001b[1;33m=\u001b[0m\u001b[1;34m'inhidb'\u001b[0m\u001b[1;33m)\u001b[0m\u001b[1;33m\u001b[0m\u001b[0m\n\u001b[0;32m      7\u001b[0m \u001b[1;33m\u001b[0m\u001b[0m\n\u001b[1;32m----> 8\u001b[1;33m \u001b[0mdf_mysql\u001b[0m \u001b[1;33m=\u001b[0m \u001b[0mpsql\u001b[0m\u001b[1;33m.\u001b[0m\u001b[0mframe_query\u001b[0m\u001b[1;33m(\u001b[0m\u001b[1;34m'select * from VIEWS;'\u001b[0m\u001b[1;33m,\u001b[0m \u001b[0mcon\u001b[0m\u001b[1;33m=\u001b[0m\u001b[0mmysql_cn\u001b[0m\u001b[1;33m)\u001b[0m\u001b[1;33m\u001b[0m\u001b[0m\n\u001b[0m\u001b[0;32m      9\u001b[0m \u001b[1;33m\u001b[0m\u001b[0m\n\u001b[0;32m     10\u001b[0m \u001b[1;32mprint\u001b[0m \u001b[1;34m'loaded dataframe from MySQL. records:'\u001b[0m\u001b[1;33m,\u001b[0m \u001b[0mlen\u001b[0m\u001b[1;33m(\u001b[0m\u001b[0mdf_mysql\u001b[0m\u001b[1;33m)\u001b[0m\u001b[1;33m\u001b[0m\u001b[0m\n",
        "\u001b[1;32md:\\progs\\Portable Python 2.7.3.2\\App\\lib\\site-packages\\pandas-0.10.1-py2.7-win32.egg\\pandas\\io\\sql.pyc\u001b[0m in \u001b[0;36mread_frame\u001b[1;34m(sql, con, index_col, coerce_float)\u001b[0m\n\u001b[0;32m    141\u001b[0m         \u001b[0mcolumn\u001b[0m \u001b[0mname\u001b[0m \u001b[0mto\u001b[0m \u001b[0muse\u001b[0m \u001b[1;32mfor\u001b[0m \u001b[0mthe\u001b[0m \u001b[0mreturned\u001b[0m \u001b[0mDataFrame\u001b[0m \u001b[0mobject\u001b[0m\u001b[1;33m.\u001b[0m\u001b[1;33m\u001b[0m\u001b[0m\n\u001b[0;32m    142\u001b[0m     \"\"\"\n\u001b[1;32m--> 143\u001b[1;33m     \u001b[0mcur\u001b[0m \u001b[1;33m=\u001b[0m \u001b[0mexecute\u001b[0m\u001b[1;33m(\u001b[0m\u001b[0msql\u001b[0m\u001b[1;33m,\u001b[0m \u001b[0mcon\u001b[0m\u001b[1;33m)\u001b[0m\u001b[1;33m\u001b[0m\u001b[0m\n\u001b[0m\u001b[0;32m    144\u001b[0m     \u001b[0mrows\u001b[0m \u001b[1;33m=\u001b[0m \u001b[0m_safe_fetch\u001b[0m\u001b[1;33m(\u001b[0m\u001b[0mcur\u001b[0m\u001b[1;33m)\u001b[0m\u001b[1;33m\u001b[0m\u001b[0m\n\u001b[0;32m    145\u001b[0m     \u001b[0mcolumns\u001b[0m \u001b[1;33m=\u001b[0m \u001b[1;33m[\u001b[0m\u001b[0mcol_desc\u001b[0m\u001b[1;33m[\u001b[0m\u001b[1;36m0\u001b[0m\u001b[1;33m]\u001b[0m \u001b[1;32mfor\u001b[0m \u001b[0mcol_desc\u001b[0m \u001b[1;32min\u001b[0m \u001b[0mcur\u001b[0m\u001b[1;33m.\u001b[0m\u001b[0mdescription\u001b[0m\u001b[1;33m]\u001b[0m\u001b[1;33m\u001b[0m\u001b[0m\n",
        "\u001b[1;32md:\\progs\\Portable Python 2.7.3.2\\App\\lib\\site-packages\\pandas-0.10.1-py2.7-win32.egg\\pandas\\io\\sql.pyc\u001b[0m in \u001b[0;36mexecute\u001b[1;34m(sql, con, retry, cur, params)\u001b[0m\n\u001b[0;32m     33\u001b[0m \u001b[1;33m\u001b[0m\u001b[0m\n\u001b[0;32m     34\u001b[0m         \u001b[1;32mif\u001b[0m \u001b[0mparams\u001b[0m \u001b[1;32mis\u001b[0m \u001b[0mNone\u001b[0m\u001b[1;33m:\u001b[0m\u001b[1;33m\u001b[0m\u001b[0m\n\u001b[1;32m---> 35\u001b[1;33m             \u001b[0mcur\u001b[0m\u001b[1;33m.\u001b[0m\u001b[0mexecute\u001b[0m\u001b[1;33m(\u001b[0m\u001b[0msql\u001b[0m\u001b[1;33m)\u001b[0m\u001b[1;33m\u001b[0m\u001b[0m\n\u001b[0m\u001b[0;32m     36\u001b[0m         \u001b[1;32melse\u001b[0m\u001b[1;33m:\u001b[0m\u001b[1;33m\u001b[0m\u001b[0m\n\u001b[0;32m     37\u001b[0m             \u001b[0mcur\u001b[0m\u001b[1;33m.\u001b[0m\u001b[0mexecute\u001b[0m\u001b[1;33m(\u001b[0m\u001b[0msql\u001b[0m\u001b[1;33m,\u001b[0m \u001b[0mparams\u001b[0m\u001b[1;33m)\u001b[0m\u001b[1;33m\u001b[0m\u001b[0m\n",
        "\u001b[1;32md:\\progs\\Portable Python 2.7.3.2\\App\\lib\\site-packages\\mysql_python-1.2.4-py2.7-win32.egg\\MySQLdb\\cursors.pyc\u001b[0m in \u001b[0;36mexecute\u001b[1;34m(self, query, args)\u001b[0m\n\u001b[0;32m    199\u001b[0m             \u001b[1;32mdel\u001b[0m \u001b[0mtb\u001b[0m\u001b[1;33m\u001b[0m\u001b[0m\n\u001b[0;32m    200\u001b[0m             \u001b[0mself\u001b[0m\u001b[1;33m.\u001b[0m\u001b[0mmessages\u001b[0m\u001b[1;33m.\u001b[0m\u001b[0mappend\u001b[0m\u001b[1;33m(\u001b[0m\u001b[1;33m(\u001b[0m\u001b[0mexc\u001b[0m\u001b[1;33m,\u001b[0m \u001b[0mvalue\u001b[0m\u001b[1;33m)\u001b[0m\u001b[1;33m)\u001b[0m\u001b[1;33m\u001b[0m\u001b[0m\n\u001b[1;32m--> 201\u001b[1;33m             \u001b[0mself\u001b[0m\u001b[1;33m.\u001b[0m\u001b[0merrorhandler\u001b[0m\u001b[1;33m(\u001b[0m\u001b[0mself\u001b[0m\u001b[1;33m,\u001b[0m \u001b[0mexc\u001b[0m\u001b[1;33m,\u001b[0m \u001b[0mvalue\u001b[0m\u001b[1;33m)\u001b[0m\u001b[1;33m\u001b[0m\u001b[0m\n\u001b[0m\u001b[0;32m    202\u001b[0m         \u001b[0mself\u001b[0m\u001b[1;33m.\u001b[0m\u001b[0m_executed\u001b[0m \u001b[1;33m=\u001b[0m \u001b[0mquery\u001b[0m\u001b[1;33m\u001b[0m\u001b[0m\n\u001b[0;32m    203\u001b[0m         \u001b[1;32mif\u001b[0m \u001b[1;32mnot\u001b[0m \u001b[0mself\u001b[0m\u001b[1;33m.\u001b[0m\u001b[0m_defer_warnings\u001b[0m\u001b[1;33m:\u001b[0m \u001b[0mself\u001b[0m\u001b[1;33m.\u001b[0m\u001b[0m_warning_check\u001b[0m\u001b[1;33m(\u001b[0m\u001b[1;33m)\u001b[0m\u001b[1;33m\u001b[0m\u001b[0m\n",
        "\u001b[1;32md:\\progs\\Portable Python 2.7.3.2\\App\\lib\\site-packages\\mysql_python-1.2.4-py2.7-win32.egg\\MySQLdb\\connections.pyc\u001b[0m in \u001b[0;36mdefaulterrorhandler\u001b[1;34m(***failed resolving arguments***)\u001b[0m\n\u001b[0;32m     34\u001b[0m     \u001b[1;32mdel\u001b[0m \u001b[0mcursor\u001b[0m\u001b[1;33m\u001b[0m\u001b[0m\n\u001b[0;32m     35\u001b[0m     \u001b[1;32mdel\u001b[0m \u001b[0mconnection\u001b[0m\u001b[1;33m\u001b[0m\u001b[0m\n\u001b[1;32m---> 36\u001b[1;33m     \u001b[1;32mraise\u001b[0m \u001b[0merrorclass\u001b[0m\u001b[1;33m,\u001b[0m \u001b[0merrorvalue\u001b[0m\u001b[1;33m\u001b[0m\u001b[0m\n\u001b[0m\u001b[0;32m     37\u001b[0m \u001b[1;33m\u001b[0m\u001b[0m\n\u001b[0;32m     38\u001b[0m \u001b[0mre_numeric_part\u001b[0m \u001b[1;33m=\u001b[0m \u001b[0mre\u001b[0m\u001b[1;33m.\u001b[0m\u001b[0mcompile\u001b[0m\u001b[1;33m(\u001b[0m\u001b[1;34mr\"^(\\d+)\"\u001b[0m\u001b[1;33m)\u001b[0m\u001b[1;33m\u001b[0m\u001b[0m\n",
        "\u001b[1;31mProgrammingError\u001b[0m: (1146, \"Table 'inhidb.views' doesn't exist\")"
       ]
      },
      {
       "output_type": "stream",
       "stream": "stdout",
       "text": [
        "Error on sql select * from VIEWS;\n"
       ]
      }
     ],
     "prompt_number": 100
    },
    {
     "cell_type": "code",
     "collapsed": false,
     "input": [
      "import MySQLdb\n",
      "import glob\n",
      "import os\n",
      "import csv\n",
      "\n",
      "def default(idx):\n",
      "    return '[' + str(idx).zfill(2) + '].ExportChannel-val'\n",
      "\n",
      "def index0f(idx):\n",
      "    return 'time'\n",
      "\n",
      "def index1f(idx):\n",
      "    return '[01 (\"test1\")].ExportChannel-val'\n",
      "\n",
      "fncDict = {0: index0f, 1: index1f}\n",
      "\n",
      "con = None\n",
      "\n",
      "try:\n",
      "    con = MySQLdb.connect(host='localhost', port=3306, user='root', passwd='password', db='inhidb')\n",
      "    cursor = con.cursor()\n",
      "\n",
      "    for sql_file in ['schema/profile.sql', 'schema/experiment.sql']:\n",
      "        shcema_sql = open(sql_file, 'r').read()\n",
      "        print shcema_sql\n",
      "        con.query( shcema_sql )\n",
      "        result = con.use_result()\n",
      "\n",
      "    profile_csvdict = csv.DictReader(open('data/profile.csv', 'rb'), delimiter=',', quotechar = '\"', doublequote = True, skipinitialspace = True, quoting=csv.QUOTE_ALL) # QUOTE_NONNUMERIC)\n",
      "    for profile in profile_csvdict:\n",
      "        sql = 'INSERT INTO `profile` (' + ', '.join( profile.keys() ) + ') VALUES ( %s, %s, %s, %s );'\n",
      "        print sql\n",
      "        #cursor.execute( sql, profile.values() )\n",
      "        #con.commit()\n",
      "\n",
      "    for csvfile in glob.glob('data/ID*.txt'):\n",
      "        profile_info = os.path.basename(csvfile).split(\".\")[0].split(\"_\")\n",
      "        profile_id = profile_info[0][-1]\n",
      "        track = profile_info[1][-1]\n",
      "        print csvfile\n",
      "        csvdict = csv.DictReader(open(csvfile, 'rb'), delimiter='\\t', quotechar='\"')\n",
      "        for idx, line in enumerate(csvdict):\n",
      "            if (idx > 0): # since the first row is 0 and null\n",
      "                values = ['%s' % (line[fn]) for fn in csvdict.fieldnames]\n",
      "                values.insert(0, track)\n",
      "                values.insert(0, profile_id)\n",
      "                \"\"\"\n",
      "                for colIdx in range(0, 45):\n",
      "                    colVal = line.get( fncDict.get(colIdx, default)(colIdx) )\n",
      "                    if ( colVal == None):\n",
      "                        print \"None\" # None value skip\n",
      "                    else:\n",
      "                        values.append(colVal)\n",
      "                print \"len : \" + str( len(values) )\n",
      "                \"\"\"\n",
      "                sql = 'INSERT INTO `experiment` VALUES (\"\", ' + ', '.join( values ) + ');'\n",
      "                # print sql\n",
      "                cursor.execute( sql )\n",
      "                con.commit()\n",
      "                # break\n",
      "\n",
      "        # print \"MySQL version: %s\" % result.fetch_row()[0]\n",
      "    \n",
      "except MySQLdb.Error, e:\n",
      "    print \"Error %d: %s\" % (e.args[0], e.args[1])\n",
      "    con.rollback()\n",
      "    sys.exit(1)\n",
      "\n",
      "finally:\n",
      "    if con:\n",
      "        con.close()"
     ],
     "language": "python",
     "metadata": {},
     "outputs": [
      {
       "output_type": "stream",
       "stream": "stdout",
       "text": [
        "\n",
        "CREATE TABLE IF NOT EXISTS `inhidb`.`profile` (\n",
        "  id INT(10) NOT NULL PRIMARY KEY,\n",
        "  name VARCHAR(100),\n",
        "  sex VARCHAR(1),\n",
        "  age INT(2)\n",
        ") ENGINE=InnoDB DEFAULT CHARSET=UTF8 ;\n",
        "\n",
        "\n",
        "CREATE TABLE IF NOT EXISTS `inhidb`.`experiment` (\n",
        "  experiment_id INT NOT NULL AUTO_INCREMENT,\n",
        "  profile_id INT(10) NOT NULL,\n",
        "  Track INTEGER(1) NOT NULL,\n",
        "  TimeStep DECIMAL(8,2) NOT NULL,\n",
        "  TestTime DECIMAL(20,10) NOT NULL,\n",
        "  TripMeter DECIMAL(20,10) NOT NULL,\n",
        "  Speed DECIMAL(20,10) NOT NULL,\n",
        "  SpeedLimit DECIMAL(20,10) NOT NULL,\n",
        "  AccelPedal DECIMAL(20,10) NOT NULL,\n",
        "  BrakePedal DECIMAL(20,10) NOT NULL,\n",
        "  SteeringWheel DECIMAL(20,10) NOT NULL,\n",
        "  LaneLateralShift DECIMAL(20,10) NOT NULL,\n",
        "  RoadCurvature DECIMAL(20,10) NOT NULL,\n",
        "  CarX DECIMAL(20,10) NOT NULL,\n",
        "  CarY DECIMAL(20,10) NOT NULL,\n",
        "  CarAccelX DECIMAL(20,10) NOT NULL,\n",
        "  CarAccelY DECIMAL(20,10) NOT NULL,\n",
        "  FacelabTime DECIMAL(20,10) NOT NULL,\n",
        "  FacelabObject DECIMAL(20,10) NOT NULL,\n",
        "  FacelabID DECIMAL(20,10) NOT NULL,\n",
        "  FacelabDist2Object DECIMAL(20,10) NOT NULL,\n",
        "  Crash DECIMAL(20,10) NOT NULL,\n",
        "  Location DECIMAL(20,10) NOT NULL,\n",
        "  Distance2RLX DECIMAL(20,10) NOT NULL,\n",
        "  DistTrain2RLX DECIMAL(20,10) NOT NULL,\n",
        "  Time2RLX DECIMAL(20,10) NOT NULL,\n",
        "  TimeTrain2RLX DECIMAL(20,10) NOT NULL,\n",
        "  Message2send2phone DECIMAL(20,10) NOT NULL,\n",
        "  Conso DECIMAL(20,10) NOT NULL,\n",
        "  TrainActivated DECIMAL(20,10) NOT NULL,\n",
        "  TrainSpeedOblig DECIMAL(20,10) NOT NULL,\n",
        "  WarningActivated DECIMAL(20,10) NOT NULL,\n",
        "  CarAroundCrossing DECIMAL(20,10) NOT NULL,\n",
        "  TrainFrontX DECIMAL(20,10) NOT NULL,\n",
        "  TrainFrontY DECIMAL(20,10) NOT NULL,\n",
        "  TrainBackX DECIMAL(20,10) NOT NULL,\n",
        "  TrainBackY DECIMAL(20,10) NOT NULL,\n",
        "  RPM DECIMAL(20,10) NOT NULL,\n",
        "  TTC DECIMAL(20,10) NOT NULL,\n",
        "  Gear DECIMAL(20,10) NOT NULL,\n",
        "  PRIMARY KEY (`experiment_id`),\n",
        "  FOREIGN KEY (`profile_id`) REFERENCES `inhidb`.`profile`(id) ON DELETE CASCADE\n",
        ") ENGINE=InnoDB DEFAULT CHARSET=UTF8;\n",
        "\n",
        "INSERT INTO `profile` (age, sex, id, name) VALUES ( %s, %s, %s, %s );\n",
        "INSERT INTO `profile` (age, sex, id, name) VALUES ( %s, %s, %s, %s );\n",
        "INSERT INTO `profile` (age, sex, id, name) VALUES ( %s, %s, %s, %s );\n",
        "INSERT INTO `profile` (age, sex, id, name) VALUES ( %s, %s, %s, %s );\n",
        "INSERT INTO `profile` (age, sex, id, name) VALUES ( %s, %s, %s, %s );\n",
        "INSERT INTO `profile` (age, sex, id, name) VALUES ( %s, %s, %s, %s );\n",
        "INSERT INTO `profile` (age, sex, id, name) VALUES ( %s, %s, %s, %s );\n",
        "data\\ID1_Track1.txt\n",
        "data\\ID1_Track2.txt"
       ]
      },
      {
       "output_type": "stream",
       "stream": "stdout",
       "text": [
        "\n",
        "data\\ID1_Track3.txt"
       ]
      },
      {
       "output_type": "stream",
       "stream": "stdout",
       "text": [
        "\n"
       ]
      }
     ],
     "prompt_number": 16
    },
    {
     "cell_type": "code",
     "collapsed": false,
     "input": [],
     "language": "python",
     "metadata": {},
     "outputs": [],
     "prompt_number": 105
    },
    {
     "cell_type": "code",
     "collapsed": false,
     "input": [],
     "language": "python",
     "metadata": {},
     "outputs": [],
     "prompt_number": 81
    },
    {
     "cell_type": "code",
     "collapsed": false,
     "input": [],
     "language": "python",
     "metadata": {},
     "outputs": [],
     "prompt_number": 81
    },
    {
     "cell_type": "code",
     "collapsed": false,
     "input": [],
     "language": "python",
     "metadata": {},
     "outputs": []
    }
   ],
   "metadata": {}
  }
 ]
}